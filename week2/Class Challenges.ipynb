{
 "cells": [
  {
   "cell_type": "markdown",
   "metadata": {},
   "source": [
    "#People People People\n",
    "\n",
    "We need a class to set up people at a party.  Write a Person class below.  It should have a constructor (```__init__```) that takes:\n",
    "* First Name\n",
    "* Last Name\n",
    "* Age\n",
    "* Gender (M or F)"
   ]
  },
  {
   "cell_type": "code",
   "execution_count": null,
   "metadata": {
    "collapsed": true
   },
   "outputs": [],
   "source": []
  },
  {
   "cell_type": "markdown",
   "metadata": {},
   "source": [
    "### Create a Person\n",
    "* Name her Paris Hilton"
   ]
  },
  {
   "cell_type": "code",
   "execution_count": null,
   "metadata": {
    "collapsed": true
   },
   "outputs": [],
   "source": []
  },
  {
   "cell_type": "markdown",
   "metadata": {},
   "source": [
    "###It's a party time to drink\n",
    "Add a method on the class called ```drinking_age``` which returns a boolean (```True``` or ```False```) depending if they are over 21"
   ]
  },
  {
   "cell_type": "code",
   "execution_count": null,
   "metadata": {
    "collapsed": true
   },
   "outputs": [],
   "source": []
  },
  {
   "cell_type": "markdown",
   "metadata": {},
   "source": [
    "###AAAANNNNNDDDDD we're drunk\n",
    "* Add an attribute called ```drink_count``` which is an int that will keep track of how many drinks the person has consumed\n",
    "* Add an attribute called ```limit``` which is a random number between 2 and 10 representing how many drinks the person can handle\n",
    "* Create a method called ```down_another``` which adds 1 to the object's drink count if the person is old enough or prints \"None for you\" otherwise\n",
    "* Create a method called ```too_many``` which returns a boolean whether the ```drink_count``` is greater than or equal to the ```limit``` "
   ]
  },
  {
   "cell_type": "code",
   "execution_count": null,
   "metadata": {
    "collapsed": true
   },
   "outputs": [],
   "source": []
  },
  {
   "cell_type": "markdown",
   "metadata": {},
   "source": [
    "### Now we need people to join our party\n",
    "* Create 2 more Person objects: Peter Petigrew who is 22 and Alice Hammerschmidt who is 24\n",
    "* Alice has had waaaayyyy too much to drink (add a dozen drinks)"
   ]
  },
  {
   "cell_type": "code",
   "execution_count": null,
   "metadata": {
    "collapsed": true
   },
   "outputs": [],
   "source": []
  },
  {
   "cell_type": "markdown",
   "metadata": {},
   "source": [
    "### One of them is a friend\n",
    "* Add a new ```friends``` attribute on Person that is a list to store any friends\n",
    "* Add a method called ```make_friend``` that accepts a friend object and appends it to the object's ```friends``` list\n",
    "* Add both other people to Paris' friends list"
   ]
  },
  {
   "cell_type": "code",
   "execution_count": null,
   "metadata": {
    "collapsed": true
   },
   "outputs": [],
   "source": []
  },
  {
   "cell_type": "markdown",
   "metadata": {},
   "source": [
    "### Can you give me a lift\n",
    "* Add a method on ```Person``` to loop through the friends finding the first one who is not drunk to get a ride"
   ]
  },
  {
   "cell_type": "code",
   "execution_count": null,
   "metadata": {
    "collapsed": true
   },
   "outputs": [],
   "source": []
  },
  {
   "cell_type": "markdown",
   "metadata": {},
   "source": [
    "# Game On\n",
    "Let's create a very basic pac-man layout\n",
    "* Create a ```PacMan``` class\n",
    "* Attributes:\n",
    "    * ```score``` integer\n",
    "    * ```powered``` boolean\n",
    "* Methods:\n",
    "    * ```make_powered```: sets powered to true\n",
    "    * ```make_normal```: sets powered to false\n",
    "    * ```toggle_super```: flips powered\n",
    "    * ```add_points```: takes an integer and adds it to the score"
   ]
  },
  {
   "cell_type": "code",
   "execution_count": null,
   "metadata": {
    "collapsed": true
   },
   "outputs": [],
   "source": []
  },
  {
   "cell_type": "markdown",
   "metadata": {},
   "source": [
    "### Create your pacman\n",
    "Go ahead and create a pacman instance"
   ]
  },
  {
   "cell_type": "code",
   "execution_count": null,
   "metadata": {
    "collapsed": true
   },
   "outputs": [],
   "source": []
  },
  {
   "cell_type": "markdown",
   "metadata": {},
   "source": [
    "### Let's create a ghost class\n",
    "* class name ```Ghost```\n",
    "* Attributes:\n",
    "    * ```color```: should be a string\n",
    "    * ```name```: should be a string\n",
    "    * ```scared```: boolean for when pacman is powered\n",
    "* Methods:\n",
    "    * ```make_scared```: sets scared to true\n",
    "    * ```make_normal```: sets scared to false"
   ]
  },
  {
   "cell_type": "code",
   "execution_count": null,
   "metadata": {
    "collapsed": true
   },
   "outputs": [],
   "source": []
  },
  {
   "cell_type": "markdown",
   "metadata": {},
   "source": [
    "### Create the ghosts\n",
    "* Blinky - red\n",
    "* Inky - blue\n",
    "* Pinky - pink\n",
    "* Clyde - green"
   ]
  },
  {
   "cell_type": "code",
   "execution_count": null,
   "metadata": {
    "collapsed": true
   },
   "outputs": [],
   "source": []
  },
  {
   "cell_type": "markdown",
   "metadata": {},
   "source": [
    "### Time to create the game\n",
    "* Create a ```Game``` class\n",
    "* Attributes:\n",
    "    * ```pacman```: to store the pacman object\n",
    "    * ```ghosts```: list of Ghost objects\n",
    "* Method:\n",
    "    * ```turn```: adds 50 points to pac man\n",
    "    * ```big_pellet```: turns pacman into powered pacman then makes all the ghosts scared\n",
    "    * ```end_powered```: turns pacman back and makes the ghosts normal\n",
    "* Create a game object"
   ]
  },
  {
   "cell_type": "code",
   "execution_count": null,
   "metadata": {
    "collapsed": true
   },
   "outputs": [],
   "source": []
  }
 ],
 "metadata": {
  "kernelspec": {
   "display_name": "Python 3",
   "language": "python",
   "name": "python3"
  },
  "language_info": {
   "codemirror_mode": {
    "name": "ipython",
    "version": 3
   },
   "file_extension": ".py",
   "mimetype": "text/x-python",
   "name": "python",
   "nbconvert_exporter": "python",
   "pygments_lexer": "ipython3",
   "version": "3.5.1"
  }
 },
 "nbformat": 4,
 "nbformat_minor": 0
}
