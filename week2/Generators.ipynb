{
 "cells": [
  {
   "cell_type": "code",
   "execution_count": 1,
   "metadata": {
    "collapsed": false
   },
   "outputs": [
    {
     "name": "stdout",
     "output_type": "stream",
     "text": [
      "JP\n",
      "Adam\n",
      "Peter\n"
     ]
    }
   ],
   "source": [
    "for name in [\"JP\", \"Adam\", \"Peter\"]:\n",
    "    print(name)"
   ]
  },
  {
   "cell_type": "code",
   "execution_count": 2,
   "metadata": {
    "collapsed": false
   },
   "outputs": [
    {
     "data": {
      "text/plain": [
       "range"
      ]
     },
     "execution_count": 2,
     "metadata": {},
     "output_type": "execute_result"
    }
   ],
   "source": [
    "range"
   ]
  },
  {
   "cell_type": "code",
   "execution_count": 5,
   "metadata": {
    "collapsed": false
   },
   "outputs": [],
   "source": [
    "foo = range(1, 100)"
   ]
  },
  {
   "cell_type": "code",
   "execution_count": 6,
   "metadata": {
    "collapsed": false
   },
   "outputs": [
    {
     "data": {
      "text/plain": [
       "range(1, 100)"
      ]
     },
     "execution_count": 6,
     "metadata": {},
     "output_type": "execute_result"
    }
   ],
   "source": [
    "foo"
   ]
  },
  {
   "cell_type": "code",
   "execution_count": 7,
   "metadata": {
    "collapsed": true
   },
   "outputs": [],
   "source": [
    "def names():\n",
    "    yield \"Aaron\"\n",
    "    yield \"David\"\n",
    "    yield \"Kevin\""
   ]
  },
  {
   "cell_type": "code",
   "execution_count": 11,
   "metadata": {
    "collapsed": false
   },
   "outputs": [
    {
     "data": {
      "text/plain": [
       "'Aaron'"
      ]
     },
     "execution_count": 11,
     "metadata": {},
     "output_type": "execute_result"
    }
   ],
   "source": [
    "next(names())"
   ]
  },
  {
   "cell_type": "code",
   "execution_count": 13,
   "metadata": {
    "collapsed": false
   },
   "outputs": [
    {
     "name": "stdout",
     "output_type": "stream",
     "text": [
      "Aaron\n",
      "David\n",
      "Kevin\n"
     ]
    }
   ],
   "source": [
    "for name in names():\n",
    "    print(name)"
   ]
  },
  {
   "cell_type": "code",
   "execution_count": 15,
   "metadata": {
    "collapsed": false
   },
   "outputs": [],
   "source": [
    "def my_range(limit):\n",
    "    current = 0\n",
    "    while current < limit:\n",
    "        yield current\n",
    "        current += 1"
   ]
  },
  {
   "cell_type": "code",
   "execution_count": 20,
   "metadata": {
    "collapsed": false,
    "scrolled": true
   },
   "outputs": [
    {
     "name": "stdout",
     "output_type": "stream",
     "text": [
      "0\n",
      "1\n",
      "2\n",
      "3\n",
      "4\n",
      "5\n",
      "6\n",
      "7\n",
      "8\n",
      "9\n"
     ]
    }
   ],
   "source": [
    "for i in my_range(10):\n",
    "    print(i)"
   ]
  },
  {
   "cell_type": "code",
   "execution_count": 21,
   "metadata": {
    "collapsed": true
   },
   "outputs": [],
   "source": [
    "def my_infinite_list():\n",
    "    current = 0\n",
    "    while True:\n",
    "        yield current\n",
    "        current += 1"
   ]
  },
  {
   "cell_type": "code",
   "execution_count": 17,
   "metadata": {
    "collapsed": false
   },
   "outputs": [
    {
     "data": {
      "text/plain": [
       "0"
      ]
     },
     "execution_count": 17,
     "metadata": {},
     "output_type": "execute_result"
    }
   ],
   "source": [
    "next(while_range)"
   ]
  },
  {
   "cell_type": "code",
   "execution_count": 18,
   "metadata": {
    "collapsed": false
   },
   "outputs": [
    {
     "data": {
      "text/plain": [
       "1"
      ]
     },
     "execution_count": 18,
     "metadata": {},
     "output_type": "execute_result"
    }
   ],
   "source": [
    "next(while_range)"
   ]
  },
  {
   "cell_type": "code",
   "execution_count": null,
   "metadata": {
    "collapsed": true
   },
   "outputs": [],
   "source": [
    "class Unit:\n",
    "\n",
    "    def __init__(self, name, hit_points ):\n",
    "        self.name = name\n",
    "        self.hit_points = hit_points\n",
    "\n",
    "    def __str__(self):\n",
    "        return \"Name: {} Hit points: {}\".format(self.name, self.hit_points)\n",
    "\n",
    "    def __lt__(self, other):\n",
    "        return self.hit_points < other.hit_points\n",
    "\n",
    "    def __int__(self):\n",
    "        return self.hit_points\n",
    "\n",
    "class Army:\n",
    "    def __init__(self, name, units=[]):\n",
    "        self.name = name\n",
    "        self.units = units\n",
    "\n",
    "    def add_units(self, units):\n",
    "        self.units.extend(units)\n",
    "\n",
    "    def remove_unit(self, unit):\n",
    "        self.units.remove(unit)\n",
    "\n",
    "    @property\n",
    "    def strength(self):\n",
    "        total = 0\n",
    "        for unit in self.units:\n",
    "            total += unit.hit_points\n",
    "\n",
    "        return total\n",
    "\n",
    "    def __str__(self):\n",
    "        return \"Name: {} Total Strength: {}\".format(self.name, self.strength)\n",
    "\n",
    "    def __lt__(self, other):\n",
    "        return self.strength < other.strength\n",
    "\n",
    "    def __add__(self, other):\n",
    "        return Army(self.name + \" \" + other.name, self.units + other.units)\n",
    "\n",
    "    def __iadd__(self, other):\n",
    "        self.add_units(other.units)\n",
    "        return self\n",
    "\n",
    "    def __int__(self):\n",
    "        return self.strength\n",
    "\n",
    "    def __iter__(self):\n",
    "        return self\n",
    "\n",
    "    def __next__(self):\n",
    "        for unit in self.units:\n",
    "            yield unit\n",
    "            \n",
    "        raise StopIteration\n"
   ]
  }
 ],
 "metadata": {
  "kernelspec": {
   "display_name": "Python 3",
   "language": "python",
   "name": "python3"
  },
  "language_info": {
   "codemirror_mode": {
    "name": "ipython",
    "version": 3
   },
   "file_extension": ".py",
   "mimetype": "text/x-python",
   "name": "python",
   "nbconvert_exporter": "python",
   "pygments_lexer": "ipython3",
   "version": "3.5.1"
  }
 },
 "nbformat": 4,
 "nbformat_minor": 0
}
