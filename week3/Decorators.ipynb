{
 "cells": [
  {
   "cell_type": "code",
   "execution_count": 1,
   "metadata": {
    "collapsed": true
   },
   "outputs": [],
   "source": [
    "class User:\n",
    "    \n",
    "    def __init__(self, name, admin=False):\n",
    "        self.name = name\n",
    "        self.admin = admin"
   ]
  },
  {
   "cell_type": "code",
   "execution_count": 2,
   "metadata": {
    "collapsed": true
   },
   "outputs": [],
   "source": [
    "bob = User(\"bob\")\n",
    "ezekiel = User(\"ezekiel\", True)"
   ]
  },
  {
   "cell_type": "code",
   "execution_count": 3,
   "metadata": {
    "collapsed": true
   },
   "outputs": [],
   "source": [
    "def total_sales(user):\n",
    "    if not user.admin:\n",
    "        return \n",
    "    \n",
    "    print(\"We make more money than we claim\")\n",
    "    \n",
    "def next_product(user):\n",
    "    if not user.admin:\n",
    "        return\n",
    "    \n",
    "    print(\"Do whatever apple does\")\n",
    "    \n",
    "def hiring_practices(user):\n",
    "    if not user.admin:\n",
    "        return\n",
    "    \n",
    "    print(\"Diversify by hiring CEO's nephew\")"
   ]
  },
  {
   "cell_type": "code",
   "execution_count": 58,
   "metadata": {
    "collapsed": true
   },
   "outputs": [],
   "source": [
    "import time\n",
    "def slow_em_down(func, *args, **kwargs):\n",
    "    \"\"\"Just a ridiculous function to slow functions\"\"\"\n",
    "    time.sleep(5)\n",
    "    return func(*args, **kwargs)"
   ]
  },
  {
   "cell_type": "code",
   "execution_count": 59,
   "metadata": {
    "collapsed": false
   },
   "outputs": [
    {
     "data": {
      "text/plain": [
       "'Just a ridiculous function to slow functions'"
      ]
     },
     "execution_count": 59,
     "metadata": {},
     "output_type": "execute_result"
    }
   ],
   "source": [
    "slow_em_down.__doc__"
   ]
  },
  {
   "cell_type": "code",
   "execution_count": 5,
   "metadata": {
    "collapsed": false
   },
   "outputs": [
    {
     "name": "stdout",
     "output_type": "stream",
     "text": [
      "Hello world\n"
     ]
    }
   ],
   "source": [
    "slow_em_down(print, \"Hello\", \"world\")"
   ]
  },
  {
   "cell_type": "code",
   "execution_count": 62,
   "metadata": {
    "collapsed": true
   },
   "outputs": [],
   "source": [
    "from functools import wraps\n",
    "def my_slow_decorator(func):\n",
    "    print(\"In decorator\")\n",
    "    \n",
    "    @wraps(func)\n",
    "    def slow_em_down(*args, **kwargs):\n",
    "        print(\"In slowemdown\")\n",
    "        time.sleep(2)\n",
    "        return func(*args, **kwargs)\n",
    "    \n",
    "    return slow_em_down"
   ]
  },
  {
   "cell_type": "code",
   "execution_count": 63,
   "metadata": {
    "collapsed": false
   },
   "outputs": [
    {
     "name": "stdout",
     "output_type": "stream",
     "text": [
      "In decorator\n"
     ]
    }
   ],
   "source": [
    "my_slow_print = my_slow_decorator(print)"
   ]
  },
  {
   "cell_type": "code",
   "execution_count": 64,
   "metadata": {
    "collapsed": false
   },
   "outputs": [
    {
     "data": {
      "text/plain": [
       "function"
      ]
     },
     "execution_count": 64,
     "metadata": {},
     "output_type": "execute_result"
    }
   ],
   "source": [
    "type(my_slow_print)"
   ]
  },
  {
   "cell_type": "code",
   "execution_count": 65,
   "metadata": {
    "collapsed": false
   },
   "outputs": [
    {
     "data": {
      "text/plain": [
       "'print'"
      ]
     },
     "execution_count": 65,
     "metadata": {},
     "output_type": "execute_result"
    }
   ],
   "source": [
    "my_slow_print.__name__"
   ]
  },
  {
   "cell_type": "code",
   "execution_count": 24,
   "metadata": {
    "collapsed": false
   },
   "outputs": [
    {
     "name": "stdout",
     "output_type": "stream",
     "text": [
      "In slowemdown\n",
      "Hello World\n"
     ]
    }
   ],
   "source": [
    "my_slow_print(\"Hello\", \"World\")"
   ]
  },
  {
   "cell_type": "code",
   "execution_count": 66,
   "metadata": {
    "collapsed": false
   },
   "outputs": [
    {
     "name": "stdout",
     "output_type": "stream",
     "text": [
      "In decorator\n"
     ]
    }
   ],
   "source": [
    "@my_slow_decorator\n",
    "def my_print(*args, **kwargs):\n",
    "    \"\"\" My stupid print function\"\"\"\n",
    "    print(*args, **kwargs)"
   ]
  },
  {
   "cell_type": "code",
   "execution_count": 67,
   "metadata": {
    "collapsed": false
   },
   "outputs": [
    {
     "data": {
      "text/plain": [
       "' My stupid print function'"
      ]
     },
     "execution_count": 67,
     "metadata": {},
     "output_type": "execute_result"
    }
   ],
   "source": [
    "my_print.__doc__"
   ]
  },
  {
   "cell_type": "code",
   "execution_count": 27,
   "metadata": {
    "collapsed": false
   },
   "outputs": [
    {
     "name": "stdout",
     "output_type": "stream",
     "text": [
      "In decorator\n"
     ]
    }
   ],
   "source": [
    "my_print = my_slow_decorator(my_print)"
   ]
  },
  {
   "cell_type": "code",
   "execution_count": 28,
   "metadata": {
    "collapsed": false
   },
   "outputs": [
    {
     "data": {
      "text/plain": [
       "'slow_em_down'"
      ]
     },
     "execution_count": 28,
     "metadata": {},
     "output_type": "execute_result"
    }
   ],
   "source": [
    "my_print.__name__"
   ]
  },
  {
   "cell_type": "code",
   "execution_count": 29,
   "metadata": {
    "collapsed": false
   },
   "outputs": [
    {
     "name": "stdout",
     "output_type": "stream",
     "text": [
      "In slowemdown\n",
      "In slowemdown\n",
      "HEllo\n"
     ]
    }
   ],
   "source": [
    "my_print(\"HEllo\")"
   ]
  },
  {
   "cell_type": "code",
   "execution_count": 31,
   "metadata": {
    "collapsed": true
   },
   "outputs": [],
   "source": [
    "total_sales(bob)"
   ]
  },
  {
   "cell_type": "code",
   "execution_count": 32,
   "metadata": {
    "collapsed": false
   },
   "outputs": [
    {
     "name": "stdout",
     "output_type": "stream",
     "text": [
      "We make more money than we claim\n"
     ]
    }
   ],
   "source": [
    "total_sales(ezekiel)"
   ]
  },
  {
   "cell_type": "code",
   "execution_count": 34,
   "metadata": {
    "collapsed": true
   },
   "outputs": [],
   "source": [
    "def admin_only(func):\n",
    "    \n",
    "    def true_function(*args, **kwargs):\n",
    "        if isinstance(args[0], User) and args[0].admin:\n",
    "            return func(*args, **kwargs)\n",
    "        \n",
    "    return true_function"
   ]
  },
  {
   "cell_type": "code",
   "execution_count": 35,
   "metadata": {
    "collapsed": true
   },
   "outputs": [],
   "source": [
    "@admin_only\n",
    "def total_sales(user):\n",
    "    print(\"We make more money than we claim\")\n",
    "  \n",
    "@admin_only\n",
    "def next_product(user):    \n",
    "    print(\"Do whatever apple does\")\n",
    "    \n",
    "@admin_only\n",
    "def hiring_practices(user):\n",
    "    print(\"Diversify by hiring CEO's nephew\")"
   ]
  },
  {
   "cell_type": "code",
   "execution_count": 36,
   "metadata": {
    "collapsed": true
   },
   "outputs": [],
   "source": [
    "total_sales(bob)"
   ]
  },
  {
   "cell_type": "code",
   "execution_count": 37,
   "metadata": {
    "collapsed": false
   },
   "outputs": [
    {
     "name": "stdout",
     "output_type": "stream",
     "text": [
      "We make more money than we claim\n"
     ]
    }
   ],
   "source": [
    "total_sales(ezekiel)"
   ]
  },
  {
   "cell_type": "code",
   "execution_count": 38,
   "metadata": {
    "collapsed": true
   },
   "outputs": [],
   "source": [
    "import time"
   ]
  },
  {
   "cell_type": "code",
   "execution_count": 39,
   "metadata": {
    "collapsed": false
   },
   "outputs": [
    {
     "data": {
      "text/plain": [
       "1458061115.751834"
      ]
     },
     "execution_count": 39,
     "metadata": {},
     "output_type": "execute_result"
    }
   ],
   "source": [
    "time.time()"
   ]
  },
  {
   "cell_type": "markdown",
   "metadata": {},
   "source": [
    "## Exercise 1"
   ]
  },
  {
   "cell_type": "markdown",
   "metadata": {},
   "source": [
    "* Create a timing decorator\n",
    "* The wrapper should store the time before the function call with `time.time()`\n",
    "* Then run the function storing the result in a variable\n",
    "* Get the time after the function runs\n",
    "* Print out the difference in the times\n",
    "* Return the result from the function call"
   ]
  },
  {
   "cell_type": "code",
   "execution_count": 44,
   "metadata": {
    "collapsed": true
   },
   "outputs": [],
   "source": [
    "class AdminOnly:\n",
    "    \n",
    "    def __init__(self, func):\n",
    "        print(\"Inside __init__\")\n",
    "        self.func = func\n",
    "        \n",
    "    def __call__(self, *args, **kwargs):\n",
    "        print(\"Inside __call__\")\n",
    "        \n",
    "        result = None\n",
    "        if isinstance(args[0], User) and args[0].admin:\n",
    "            result = self.func(*args, **kwargs)\n",
    "            \n",
    "        print(\"After func call\")\n",
    "        return result"
   ]
  },
  {
   "cell_type": "code",
   "execution_count": 45,
   "metadata": {
    "collapsed": false
   },
   "outputs": [
    {
     "name": "stdout",
     "output_type": "stream",
     "text": [
      "Inside __init__\n",
      "Inside __init__\n",
      "Inside __init__\n"
     ]
    }
   ],
   "source": [
    "@AdminOnly\n",
    "def total_sales(user):\n",
    "    print(\"We make more money than we claim\")\n",
    "  \n",
    "@AdminOnly\n",
    "def next_product(user):    \n",
    "    print(\"Do whatever apple does\")\n",
    "    \n",
    "@AdminOnly\n",
    "def hiring_practices(user):\n",
    "    print(\"Diversify by hiring CEO's nephew\")"
   ]
  },
  {
   "cell_type": "code",
   "execution_count": 46,
   "metadata": {
    "collapsed": false
   },
   "outputs": [
    {
     "name": "stdout",
     "output_type": "stream",
     "text": [
      "Inside __call__\n",
      "We make more money than we claim\n",
      "After func call\n"
     ]
    }
   ],
   "source": [
    "total_sales(ezekiel)"
   ]
  },
  {
   "cell_type": "code",
   "execution_count": 49,
   "metadata": {
    "collapsed": false
   },
   "outputs": [],
   "source": [
    "def admin_only(arg1):\n",
    "    print(\"inside admin_only with {}\".format(arg1))\n",
    "    def wrap(func):\n",
    "        print(\"Inside wrap()\")\n",
    "        def wrapped_func(*args, **kwargs):\n",
    "            print(\"Inside wrapped\")\n",
    "            print(\"Passed decorator arg\" + arg1)\n",
    "            if isinstance(args[0], User) and args[0].admin:\n",
    "                results = func(*args, **kwargs)\n",
    "            print(\"After func call\")\n",
    "        return wrapped_func\n",
    "    return wrap"
   ]
  },
  {
   "cell_type": "code",
   "execution_count": 51,
   "metadata": {
    "collapsed": false
   },
   "outputs": [
    {
     "name": "stdout",
     "output_type": "stream",
     "text": [
      "inside admin_only with HELLO\n",
      "Inside wrap()\n"
     ]
    }
   ],
   "source": [
    "@admin_only(\"HELLO\")\n",
    "def total_sales(user):\n",
    "    print(\"We make more money than we claim\")"
   ]
  },
  {
   "cell_type": "code",
   "execution_count": 52,
   "metadata": {
    "collapsed": false
   },
   "outputs": [
    {
     "name": "stdout",
     "output_type": "stream",
     "text": [
      "Inside wrapped\n",
      "Passed decorator argHELLO\n",
      "We make more money than we claim\n",
      "After func call\n"
     ]
    }
   ],
   "source": [
    "total_sales(ezekiel)"
   ]
  },
  {
   "cell_type": "code",
   "execution_count": 53,
   "metadata": {
    "collapsed": true
   },
   "outputs": [],
   "source": [
    "def total_sales(user):\n",
    "    print(\"We make more money than we claim\")"
   ]
  },
  {
   "cell_type": "code",
   "execution_count": 54,
   "metadata": {
    "collapsed": false
   },
   "outputs": [
    {
     "name": "stdout",
     "output_type": "stream",
     "text": [
      "inside admin_only with hello\n"
     ]
    }
   ],
   "source": [
    "tsales1 = admin_only(\"hello\")"
   ]
  },
  {
   "cell_type": "code",
   "execution_count": 55,
   "metadata": {
    "collapsed": false
   },
   "outputs": [
    {
     "data": {
      "text/plain": [
       "'wrap'"
      ]
     },
     "execution_count": 55,
     "metadata": {},
     "output_type": "execute_result"
    }
   ],
   "source": [
    "tsales1.__name__"
   ]
  },
  {
   "cell_type": "code",
   "execution_count": 56,
   "metadata": {
    "collapsed": false
   },
   "outputs": [
    {
     "name": "stdout",
     "output_type": "stream",
     "text": [
      "Inside wrap()\n"
     ]
    }
   ],
   "source": [
    "tsales2 = tsales1(total_sales)"
   ]
  },
  {
   "cell_type": "code",
   "execution_count": 57,
   "metadata": {
    "collapsed": false
   },
   "outputs": [
    {
     "name": "stdout",
     "output_type": "stream",
     "text": [
      "Inside wrapped\n",
      "Passed decorator arghello\n",
      "After func call\n"
     ]
    }
   ],
   "source": [
    "tsales2(bob)"
   ]
  },
  {
   "cell_type": "code",
   "execution_count": null,
   "metadata": {
    "collapsed": true
   },
   "outputs": [],
   "source": []
  }
 ],
 "metadata": {
  "kernelspec": {
   "display_name": "Python 3",
   "language": "python",
   "name": "python3"
  },
  "language_info": {
   "codemirror_mode": {
    "name": "ipython",
    "version": 3
   },
   "file_extension": ".py",
   "mimetype": "text/x-python",
   "name": "python",
   "nbconvert_exporter": "python",
   "pygments_lexer": "ipython3",
   "version": "3.5.1"
  }
 },
 "nbformat": 4,
 "nbformat_minor": 0
}
