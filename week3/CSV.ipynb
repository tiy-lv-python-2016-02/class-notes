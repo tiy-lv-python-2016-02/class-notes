{
 "cells": [
  {
   "cell_type": "code",
   "execution_count": 1,
   "metadata": {
    "collapsed": false
   },
   "outputs": [
    {
     "name": "stdout",
     "output_type": "stream",
     "text": [
      "['id,student,grade\\n', '1,Hunter,A\\n', '2,Grey,B\\n', '3,Elliot,C\\n', '4,Kerry,B\\n', '5,Marion,D']\n"
     ]
    }
   ],
   "source": [
    "with open(\"students.csv\") as file:\n",
    "    lines = file.readlines()\n",
    "    \n",
    "print(lines)"
   ]
  },
  {
   "cell_type": "code",
   "execution_count": 2,
   "metadata": {
    "collapsed": false
   },
   "outputs": [
    {
     "name": "stdout",
     "output_type": "stream",
     "text": [
      "['id', 'student', 'grade\\n']\n",
      "['1', 'Hunter', 'A\\n']\n",
      "['2', 'Grey', 'B\\n']\n",
      "['3', 'Elliot', 'C\\n']\n",
      "['4', 'Kerry', 'B\\n']\n",
      "['5', 'Marion', 'D']\n"
     ]
    }
   ],
   "source": [
    "for line in lines:\n",
    "    print(line.split(\",\"))"
   ]
  },
  {
   "cell_type": "code",
   "execution_count": 4,
   "metadata": {
    "collapsed": false
   },
   "outputs": [
    {
     "name": "stdout",
     "output_type": "stream",
     "text": [
      "['id', 'student', 'grade']\n",
      "['1', 'Hunter', 'A']\n",
      "['2', 'Grey', 'B']\n",
      "['3', 'Elliot', 'C']\n",
      "['4', 'Kerry', 'B']\n",
      "['5', 'Marion', 'D']\n"
     ]
    }
   ],
   "source": [
    "import csv\n",
    "with open(\"students.csv\") as file:\n",
    "    reader = csv.reader(file)\n",
    "    for row in reader:\n",
    "        print(row)"
   ]
  },
  {
   "cell_type": "code",
   "execution_count": 5,
   "metadata": {
    "collapsed": false
   },
   "outputs": [
    {
     "name": "stdout",
     "output_type": "stream",
     "text": [
      "['id', 'student', 'grade']\n",
      "--------\n",
      "['1', 'Hunter', 'A']\n",
      "['2', 'Grey', 'B']\n",
      "['3', 'Elliot', 'C']\n",
      "['4', 'Kerry', 'B']\n",
      "['5', 'Marion', 'D']\n"
     ]
    }
   ],
   "source": [
    "with open(\"students.csv\") as file:\n",
    "    reader = csv.reader(file) # reader is an iterable\n",
    "    headers = next(reader)\n",
    "    print(headers)\n",
    "    print(\"--------\")\n",
    "    for row in reader:\n",
    "        print(row)"
   ]
  },
  {
   "cell_type": "code",
   "execution_count": 8,
   "metadata": {
    "collapsed": false
   },
   "outputs": [
    {
     "name": "stdout",
     "output_type": "stream",
     "text": [
      "{'student': 'Hunter', 'grade': 'A', 'id': '1'}\n",
      "{'student': 'Grey', 'grade': 'B', 'id': '2'}\n",
      "{'student': 'Elliot', 'grade': 'C', 'id': '3'}\n",
      "{'student': 'Kerry', 'grade': 'B', 'id': '4'}\n",
      "{'student': 'Marion', 'grade': 'D', 'id': '5'}\n"
     ]
    }
   ],
   "source": [
    "with open(\"students.csv\") as file:\n",
    "    reader = csv.DictReader(file)\n",
    "\n",
    "    for row in reader:\n",
    "        print(row)"
   ]
  },
  {
   "cell_type": "code",
   "execution_count": 9,
   "metadata": {
    "collapsed": true
   },
   "outputs": [],
   "source": [
    "csv.reader?"
   ]
  },
  {
   "cell_type": "code",
   "execution_count": null,
   "metadata": {
    "collapsed": true
   },
   "outputs": [],
   "source": []
  }
 ],
 "metadata": {
  "kernelspec": {
   "display_name": "Python 3",
   "language": "python",
   "name": "python3"
  },
  "language_info": {
   "codemirror_mode": {
    "name": "ipython",
    "version": 3
   },
   "file_extension": ".py",
   "mimetype": "text/x-python",
   "name": "python",
   "nbconvert_exporter": "python",
   "pygments_lexer": "ipython3",
   "version": "3.5.1"
  }
 },
 "nbformat": 4,
 "nbformat_minor": 0
}
