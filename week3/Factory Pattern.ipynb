{
 "cells": [
  {
   "cell_type": "code",
   "execution_count": 6,
   "metadata": {
    "collapsed": false
   },
   "outputs": [],
   "source": [
    "class Polygon:\n",
    "    \n",
    "    def __init__(self, sides):\n",
    "        \"\"\"\n",
    "        Takes a list of side lengths to initialize the polygon\n",
    "        \"\"\"\n",
    "        self.sides = sides\n",
    "        \n",
    "    @property\n",
    "    def perimeter(self):\n",
    "        return sum(self.sides)\n",
    "    \n",
    "    @staticmethod\n",
    "    def make_square(side):\n",
    "        return Polygon([side] * 4)\n",
    "    \n",
    "    @staticmethod\n",
    "    def make_rectangle(heigh, width):\n",
    "        return Polygon([height, width, height, width])"
   ]
  },
  {
   "cell_type": "code",
   "execution_count": 3,
   "metadata": {
    "collapsed": true
   },
   "outputs": [],
   "source": [
    "my_square = Polygon([5,5,5,5])"
   ]
  },
  {
   "cell_type": "code",
   "execution_count": 5,
   "metadata": {
    "collapsed": true
   },
   "outputs": [],
   "source": [
    "my_square = Polygon.make_square(5)"
   ]
  },
  {
   "cell_type": "code",
   "execution_count": 7,
   "metadata": {
    "collapsed": true
   },
   "outputs": [],
   "source": [
    "class Polygon:\n",
    "    \n",
    "    def __init__(self, sides):\n",
    "        \"\"\"\n",
    "        Takes a list of side lengths to initialize the polygon\n",
    "        \"\"\"\n",
    "        self.sides = sides\n",
    "        \n",
    "    @property\n",
    "    def perimeter(self):\n",
    "        return sum(self.sides)\n",
    "    \n",
    "    def make_polygon(sides):\n",
    "        if len(sides) == 4 and len(set(sides)) == 1:\n",
    "            return Square(sides)\n",
    "        elif len(sides) == 4 and sides[0] == sides[2] and sides[1] == sides[3]:\n",
    "            return Rectangle(sides)\n",
    "        else:\n",
    "            return Polygon(sides)\n",
    "    \n",
    "class Square(Polygon):\n",
    "    \n",
    "    def area(self):\n",
    "        return self.side[0] * self.side[1]\n",
    "    \n",
    "class Rectangle(Polygon):\n",
    "    pass"
   ]
  },
  {
   "cell_type": "code",
   "execution_count": 8,
   "metadata": {
    "collapsed": true
   },
   "outputs": [],
   "source": [
    "json_string = '{\"bob\":\"hello\", \"fred\":\"goodbye\"}'"
   ]
  },
  {
   "cell_type": "code",
   "execution_count": 9,
   "metadata": {
    "collapsed": true
   },
   "outputs": [],
   "source": [
    "import json"
   ]
  },
  {
   "cell_type": "code",
   "execution_count": 11,
   "metadata": {
    "collapsed": false
   },
   "outputs": [],
   "source": [
    "my_dict = json.loads(json_string)"
   ]
  },
  {
   "cell_type": "code",
   "execution_count": 12,
   "metadata": {
    "collapsed": false
   },
   "outputs": [
    {
     "data": {
      "text/plain": [
       "'{\"bob\": \"hello\", \"fred\": \"goodbye\"}'"
      ]
     },
     "execution_count": 12,
     "metadata": {},
     "output_type": "execute_result"
    }
   ],
   "source": [
    "json.dumps(my_dict)"
   ]
  },
  {
   "cell_type": "code",
   "execution_count": null,
   "metadata": {
    "collapsed": true
   },
   "outputs": [],
   "source": []
  }
 ],
 "metadata": {
  "kernelspec": {
   "display_name": "Python 3",
   "language": "python",
   "name": "python3"
  },
  "language_info": {
   "codemirror_mode": {
    "name": "ipython",
    "version": 3
   },
   "file_extension": ".py",
   "mimetype": "text/x-python",
   "name": "python",
   "nbconvert_exporter": "python",
   "pygments_lexer": "ipython3",
   "version": "3.5.1"
  }
 },
 "nbformat": 4,
 "nbformat_minor": 0
}
