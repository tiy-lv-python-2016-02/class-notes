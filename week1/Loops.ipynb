{
 "cells": [
  {
   "cell_type": "code",
   "execution_count": 1,
   "metadata": {
    "collapsed": false
   },
   "outputs": [
    {
     "name": "stdout",
     "output_type": "stream",
     "text": [
      "0\n",
      "1\n",
      "2\n",
      "3\n",
      "4\n",
      "5\n",
      "6\n",
      "7\n",
      "8\n",
      "9\n"
     ]
    }
   ],
   "source": [
    "counter = 0\n",
    "\n",
    "while counter < 10:\n",
    "    print(counter)\n",
    "    counter += 1"
   ]
  },
  {
   "cell_type": "code",
   "execution_count": 4,
   "metadata": {
    "collapsed": false
   },
   "outputs": [
    {
     "name": "stdout",
     "output_type": "stream",
     "text": [
      "1\n",
      "100\n",
      "100 is too big I quit\n",
      "Done running\n"
     ]
    }
   ],
   "source": [
    "counter = 0\n",
    "nums = [1, 100, 22, 56, 34]\n",
    "\n",
    "while counter < len(nums):\n",
    "    print(nums[counter])\n",
    "    if nums[counter] == 100:\n",
    "        print(\"100 is too big I quit\")\n",
    "        break\n",
    "    counter += 1\n",
    "    \n",
    "print(\"Done running\")"
   ]
  },
  {
   "cell_type": "code",
   "execution_count": null,
   "metadata": {
    "collapsed": false
   },
   "outputs": [],
   "source": [
    "# This creates an infinite loop\n",
    "counter = 0\n",
    "nums = [1, 100, 22, 56, 34]\n",
    "\n",
    "while counter < len(nums):\n",
    "    print(nums[counter])\n",
    "    if nums[counter] == 100:\n",
    "        print(\"100 is too big skipping\")\n",
    "        continue\n",
    "    print(\"Increase counter\")\n",
    "    counter += 1\n",
    "    \n",
    "print(\"Done running\")"
   ]
  },
  {
   "cell_type": "code",
   "execution_count": 1,
   "metadata": {
    "collapsed": true
   },
   "outputs": [],
   "source": [
    "students = [\"Aaron\", \"Ola\", \"David\", \"Kevin\"]"
   ]
  },
  {
   "cell_type": "code",
   "execution_count": 2,
   "metadata": {
    "collapsed": false
   },
   "outputs": [
    {
     "name": "stdout",
     "output_type": "stream",
     "text": [
      "Aaron\n",
      "Ola\n",
      "David\n",
      "Kevin\n"
     ]
    }
   ],
   "source": [
    "for student in students:\n",
    "    print(student)"
   ]
  },
  {
   "cell_type": "code",
   "execution_count": 11,
   "metadata": {
    "collapsed": false
   },
   "outputs": [
    {
     "name": "stdout",
     "output_type": "stream",
     "text": [
      "H\n",
      "e\n",
      "l\n",
      "l\n",
      "o\n",
      "&\n",
      "W\n",
      "o\n",
      "r\n",
      "l\n",
      "d\n",
      "&\n"
     ]
    }
   ],
   "source": [
    "for letter in \"Hello World!\":\n",
    "    if letter.isalpha():\n",
    "        print(letter)\n",
    "    else:\n",
    "        print(\"&\")"
   ]
  },
  {
   "cell_type": "code",
   "execution_count": 7,
   "metadata": {
    "collapsed": false
   },
   "outputs": [
    {
     "name": "stdout",
     "output_type": "stream",
     "text": [
      "5\n",
      "6\n",
      "7\n",
      "8\n",
      "9\n"
     ]
    }
   ],
   "source": [
    "for x in range(5, 10):\n",
    "    print(x)"
   ]
  },
  {
   "cell_type": "code",
   "execution_count": 12,
   "metadata": {
    "collapsed": false
   },
   "outputs": [
    {
     "name": "stdout",
     "output_type": "stream",
     "text": [
      "Hello\n",
      "Hello\n",
      "Hello\n",
      "Hello\n",
      "Hello\n",
      "Hello\n",
      "Hello\n",
      "Hello\n",
      "Hello\n",
      "Hello\n"
     ]
    }
   ],
   "source": [
    "for _ in range(10):\n",
    "    print(\"Hello\")"
   ]
  },
  {
   "cell_type": "code",
   "execution_count": 21,
   "metadata": {
    "collapsed": false
   },
   "outputs": [
    {
     "name": "stdout",
     "output_type": "stream",
     "text": [
      "['m', 'a', 'k', 'i', 'n', 'g', 'p', 'l', 'o', 't', 's', 'd', 'v', 'u', 'z', 'e', 'f', 'h', 'r', 'y']\n"
     ]
    }
   ],
   "source": [
    "sentence = \"Making plots and visualizations is one of the most important tasks in data analysis.\"\n",
    "all_letters = \"abcdefghijklmnopqrstuvwxyz\"\n",
    "found_letters = []\n",
    "\n",
    "for letter in sentence.lower():\n",
    "    if letter in all_letters and letter not in found_letters:\n",
    "        found_letters.append(letter)\n",
    "        \n",
    "print(found_letters)"
   ]
  },
  {
   "cell_type": "code",
   "execution_count": null,
   "metadata": {
    "collapsed": true
   },
   "outputs": [],
   "source": []
  }
 ],
 "metadata": {
  "kernelspec": {
   "display_name": "Python 3",
   "language": "python",
   "name": "python3"
  },
  "language_info": {
   "codemirror_mode": {
    "name": "ipython",
    "version": 3
   },
   "file_extension": ".py",
   "mimetype": "text/x-python",
   "name": "python",
   "nbconvert_exporter": "python",
   "pygments_lexer": "ipython3",
   "version": "3.5.1"
  }
 },
 "nbformat": 4,
 "nbformat_minor": 0
}
