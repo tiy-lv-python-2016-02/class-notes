{
 "cells": [
  {
   "cell_type": "code",
   "execution_count": 1,
   "metadata": {
    "collapsed": true
   },
   "outputs": [],
   "source": [
    "import datetime\n",
    "\n",
    "jan1 = datetime.date(year=2015, month=1, day=1)"
   ]
  },
  {
   "cell_type": "code",
   "execution_count": 3,
   "metadata": {
    "collapsed": false
   },
   "outputs": [
    {
     "data": {
      "text/plain": [
       "datetime.date(2015, 1, 1)"
      ]
     },
     "execution_count": 3,
     "metadata": {},
     "output_type": "execute_result"
    }
   ],
   "source": [
    "jan1"
   ]
  },
  {
   "cell_type": "code",
   "execution_count": 4,
   "metadata": {
    "collapsed": false
   },
   "outputs": [
    {
     "data": {
      "text/plain": [
       "2015"
      ]
     },
     "execution_count": 4,
     "metadata": {},
     "output_type": "execute_result"
    }
   ],
   "source": [
    "jan1.year"
   ]
  },
  {
   "cell_type": "code",
   "execution_count": 5,
   "metadata": {
    "collapsed": true
   },
   "outputs": [],
   "source": [
    "from datetime import date"
   ]
  },
  {
   "cell_type": "code",
   "execution_count": 6,
   "metadata": {
    "collapsed": true
   },
   "outputs": [],
   "source": [
    "jan1 = date(year=2015, month=1, day=1)"
   ]
  },
  {
   "cell_type": "code",
   "execution_count": null,
   "metadata": {
    "collapsed": true
   },
   "outputs": [],
   "source": [
    "from datetime import * # BAD DON'T USE"
   ]
  },
  {
   "cell_type": "markdown",
   "metadata": {},
   "source": [
    "Some really important namespaces in the standard library to know:\n",
    "* re\n",
    "* datetime\n",
    "* math\n",
    "* random\n",
    "* statistics\n",
    "* collections\n",
    "* itertools\n",
    "* os\n",
    "* os.path\n",
    "* sys\n",
    "* io\n",
    "* argparse\n",
    "* subprocess\n",
    "* csv\n",
    "* json\n",
    "* urllib"
   ]
  },
  {
   "cell_type": "markdown",
   "metadata": {},
   "source": [
    "# Importing your own modules"
   ]
  },
  {
   "cell_type": "code",
   "execution_count": 7,
   "metadata": {
    "collapsed": false
   },
   "outputs": [
    {
     "name": "stdout",
     "output_type": "stream",
     "text": [
      "['', '/Users/jeff/theironyard/2016-02/class-notes/.direnv/python-3.5.1/lib/python35.zip', '/Users/jeff/theironyard/2016-02/class-notes/.direnv/python-3.5.1/lib/python3.5', '/Users/jeff/theironyard/2016-02/class-notes/.direnv/python-3.5.1/lib/python3.5/plat-darwin', '/Users/jeff/theironyard/2016-02/class-notes/.direnv/python-3.5.1/lib/python3.5/lib-dynload', '/usr/local/Cellar/python3/3.5.1/Frameworks/Python.framework/Versions/3.5/lib/python3.5', '/usr/local/Cellar/python3/3.5.1/Frameworks/Python.framework/Versions/3.5/lib/python3.5/plat-darwin', '/Users/jeff/theironyard/2016-02/class-notes/.direnv/python-3.5.1/lib/python3.5/site-packages', '/Users/jeff/theironyard/2016-02/class-notes/.direnv/python-3.5.1/lib/python3.5/site-packages/IPython/extensions', '/Users/jeff/.ipython']\n"
     ]
    }
   ],
   "source": [
    "import sys\n",
    "print(sys.path)"
   ]
  },
  {
   "cell_type": "code",
   "execution_count": null,
   "metadata": {
    "collapsed": true
   },
   "outputs": [],
   "source": []
  }
 ],
 "metadata": {
  "kernelspec": {
   "display_name": "Python 3",
   "language": "python",
   "name": "python3"
  },
  "language_info": {
   "codemirror_mode": {
    "name": "ipython",
    "version": 3
   },
   "file_extension": ".py",
   "mimetype": "text/x-python",
   "name": "python",
   "nbconvert_exporter": "python",
   "pygments_lexer": "ipython3",
   "version": "3.5.1"
  }
 },
 "nbformat": 4,
 "nbformat_minor": 0
}
