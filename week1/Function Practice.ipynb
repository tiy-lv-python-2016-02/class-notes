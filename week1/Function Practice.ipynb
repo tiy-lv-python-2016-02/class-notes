{
 "cells": [
  {
   "cell_type": "markdown",
   "metadata": {},
   "source": [
    "# Practice\n",
    "\n",
    "Below are exercises to run through to get some practice on the basics of functions. "
   ]
  },
  {
   "cell_type": "markdown",
   "metadata": {},
   "source": [
    "### Write a function to add two numbers together - Example\n",
    "\n",
    "Write a function to add 2 numbers together.  Capture the return value and print it."
   ]
  },
  {
   "cell_type": "code",
   "execution_count": 1,
   "metadata": {
    "collapsed": true
   },
   "outputs": [],
   "source": [
    "def add(first_number, second_number):\n",
    "    return first_number + second_number"
   ]
  },
  {
   "cell_type": "code",
   "execution_count": 2,
   "metadata": {
    "collapsed": false
   },
   "outputs": [
    {
     "name": "stdout",
     "output_type": "stream",
     "text": [
      "3\n"
     ]
    }
   ],
   "source": [
    "new_number = add(1, 2)\n",
    "print(new_number)"
   ]
  },
  {
   "cell_type": "markdown",
   "metadata": {},
   "source": [
    "### Write a function to return the square of a number\n",
    "\n",
    "Write a function that takes 1 argument and returns the square of that number.  Capture the return value and print it"
   ]
  },
  {
   "cell_type": "code",
   "execution_count": null,
   "metadata": {
    "collapsed": true
   },
   "outputs": [],
   "source": []
  },
  {
   "cell_type": "code",
   "execution_count": null,
   "metadata": {
    "collapsed": true
   },
   "outputs": [],
   "source": []
  },
  {
   "cell_type": "code",
   "execution_count": null,
   "metadata": {
    "collapsed": true
   },
   "outputs": [],
   "source": []
  },
  {
   "cell_type": "markdown",
   "metadata": {},
   "source": [
    "### Write a function that takes a string and returns the second letter\n",
    "\n",
    "Write a function that accepts 1 string argument and returns the second letter in the string.  Capture the return value and print it"
   ]
  },
  {
   "cell_type": "code",
   "execution_count": null,
   "metadata": {
    "collapsed": true
   },
   "outputs": [],
   "source": []
  },
  {
   "cell_type": "code",
   "execution_count": null,
   "metadata": {
    "collapsed": true
   },
   "outputs": [],
   "source": []
  },
  {
   "cell_type": "code",
   "execution_count": null,
   "metadata": {
    "collapsed": true
   },
   "outputs": [],
   "source": []
  },
  {
   "cell_type": "markdown",
   "metadata": {},
   "source": [
    "### Write a function that returns the specified letter from a string\n",
    "Write a function that accepts a string and a number.  Then returns the letter from the string at the specified index. For a refresher on getting a specific [index from a sequence](https://github.com/tiy-lv-python-2015-10/class-notes/blob/master/week1/05-Sequences.ipynb).  Capture the return value and print it."
   ]
  },
  {
   "cell_type": "code",
   "execution_count": null,
   "metadata": {
    "collapsed": true
   },
   "outputs": [],
   "source": []
  },
  {
   "cell_type": "code",
   "execution_count": null,
   "metadata": {
    "collapsed": true
   },
   "outputs": [],
   "source": []
  },
  {
   "cell_type": "code",
   "execution_count": null,
   "metadata": {
    "collapsed": true
   },
   "outputs": [],
   "source": []
  },
  {
   "cell_type": "markdown",
   "metadata": {},
   "source": [
    "### Write a function that returns a substring\n",
    "Write a function that accepts 3 arguments.  The first is a string, the second is a start position (number) and the third is a end position (number).  Return the letters between the start and end position.  Capture the return value and print it."
   ]
  },
  {
   "cell_type": "code",
   "execution_count": null,
   "metadata": {
    "collapsed": true
   },
   "outputs": [],
   "source": []
  },
  {
   "cell_type": "code",
   "execution_count": null,
   "metadata": {
    "collapsed": true
   },
   "outputs": [],
   "source": []
  },
  {
   "cell_type": "code",
   "execution_count": null,
   "metadata": {
    "collapsed": true
   },
   "outputs": [],
   "source": []
  },
  {
   "cell_type": "markdown",
   "metadata": {},
   "source": [
    "### Write a function that tells if a number is even or odd\n",
    "Write a function that accepts a number for an argument and returns a string saying \"even\" if the number is even or \"odd\" if the number is odd.  Use the % operator to determine this. Capture the return value and print it."
   ]
  },
  {
   "cell_type": "code",
   "execution_count": null,
   "metadata": {
    "collapsed": true
   },
   "outputs": [],
   "source": []
  },
  {
   "cell_type": "code",
   "execution_count": null,
   "metadata": {
    "collapsed": true
   },
   "outputs": [],
   "source": []
  },
  {
   "cell_type": "code",
   "execution_count": null,
   "metadata": {
    "collapsed": true
   },
   "outputs": [],
   "source": []
  },
  {
   "cell_type": "markdown",
   "metadata": {},
   "source": [
    "### Write a function to return a repeat string\n",
    "Write a function that accepts 2 arguments.  The first is a letter or string and the second is how many times to repeat it. Using a for loop create a new string that is the string (1st argument) repeated that many times.  Return the newly repeated string. Capture the value in a variable and print.\n",
    "\n",
    "__Example__: If your string is \"hello\" and the number is 3 the function should return \"hellohellohello\""
   ]
  },
  {
   "cell_type": "code",
   "execution_count": null,
   "metadata": {
    "collapsed": true
   },
   "outputs": [],
   "source": []
  },
  {
   "cell_type": "code",
   "execution_count": null,
   "metadata": {
    "collapsed": true
   },
   "outputs": [],
   "source": []
  },
  {
   "cell_type": "code",
   "execution_count": null,
   "metadata": {
    "collapsed": true
   },
   "outputs": [],
   "source": []
  },
  {
   "cell_type": "markdown",
   "metadata": {},
   "source": [
    "### Write a function to simplify this code\n",
    "The following code can benefit from a function.  Remember to try to find the code that repeats to simplify it.  Create a function and rewrite the code to use it."
   ]
  },
  {
   "cell_type": "code",
   "execution_count": null,
   "metadata": {
    "collapsed": true
   },
   "outputs": [],
   "source": []
  },
  {
   "cell_type": "code",
   "execution_count": 3,
   "metadata": {
    "collapsed": false
   },
   "outputs": [
    {
     "name": "stdout",
     "output_type": "stream",
     "text": [
      "2 4 6 7 12\n"
     ]
    }
   ],
   "source": [
    "a = 2\n",
    "b = 4\n",
    "c = 6\n",
    "d = 7\n",
    "e = 12\n",
    "\n",
    "square_a = a * a\n",
    "square_b = b * b\n",
    "square_c = c * c\n",
    "square_d = d * d\n",
    "square_e = e * e\n",
    "print(a, b, c, d, e)"
   ]
  },
  {
   "cell_type": "code",
   "execution_count": null,
   "metadata": {
    "collapsed": true
   },
   "outputs": [],
   "source": []
  },
  {
   "cell_type": "markdown",
   "metadata": {},
   "source": [
    "### Write a function to simplify this code\n",
    "The following code can benefit from a function. Remember to try to find the code that repeats and could be moved to a function to simplify it. Create a function and rewrite the code to use it."
   ]
  },
  {
   "cell_type": "code",
   "execution_count": null,
   "metadata": {
    "collapsed": true
   },
   "outputs": [],
   "source": []
  },
  {
   "cell_type": "code",
   "execution_count": 4,
   "metadata": {
    "collapsed": false
   },
   "outputs": [
    {
     "name": "stdout",
     "output_type": "stream",
     "text": [
      "odd\n",
      "even\n",
      "even\n",
      "odd\n",
      "odd\n"
     ]
    }
   ],
   "source": [
    "a = 1\n",
    "b = 2\n",
    "c = 4\n",
    "d = 7\n",
    "e = 23\n",
    "\n",
    "if a % 2 == 0:\n",
    "    a_odd_even = \"even\"\n",
    "else:\n",
    "    a_odd_even = \"odd\"\n",
    "    \n",
    "print(a_odd_even)\n",
    "\n",
    "if b % 2 == 0:\n",
    "    b_odd_even = \"even\"\n",
    "else:\n",
    "    b_odd_even = \"odd\"\n",
    "    \n",
    "print(b_odd_even)\n",
    "\n",
    "if c % 2 == 0:\n",
    "    c_odd_even = \"even\"\n",
    "else:\n",
    "    c_odd_even = \"odd\"\n",
    "    \n",
    "print(c_odd_even)\n",
    "\n",
    "if d % 2 == 0:\n",
    "    d_odd_even = \"even\"\n",
    "else:\n",
    "    d_odd_even = \"odd\"\n",
    "    \n",
    "print(d_odd_even)\n",
    "\n",
    "if e % 2 == 0:\n",
    "    e_odd_even = \"even\"\n",
    "else:\n",
    "    e_odd_even = \"odd\"\n",
    "    \n",
    "print(e_odd_even)"
   ]
  },
  {
   "cell_type": "code",
   "execution_count": null,
   "metadata": {
    "collapsed": true
   },
   "outputs": [],
   "source": []
  },
  {
   "cell_type": "markdown",
   "metadata": {},
   "source": [
    "### Write a function that gets a user inputted number\n",
    "Write a function that takes no arguments.  It should ask the user for input and loop until the input is a valid number.  Once getting a valid number it should return that number.  Capture the number in a variable and return it."
   ]
  },
  {
   "cell_type": "code",
   "execution_count": null,
   "metadata": {
    "collapsed": true
   },
   "outputs": [],
   "source": []
  },
  {
   "cell_type": "code",
   "execution_count": null,
   "metadata": {
    "collapsed": true
   },
   "outputs": [],
   "source": []
  },
  {
   "cell_type": "code",
   "execution_count": null,
   "metadata": {
    "collapsed": true
   },
   "outputs": [],
   "source": []
  }
 ],
 "metadata": {
  "kernelspec": {
   "display_name": "Python 3",
   "language": "python",
   "name": "python3"
  },
  "language_info": {
   "codemirror_mode": {
    "name": "ipython",
    "version": 3
   },
   "file_extension": ".py",
   "mimetype": "text/x-python",
   "name": "python",
   "nbconvert_exporter": "python",
   "pygments_lexer": "ipython3",
   "version": "3.5.0"
  }
 },
 "nbformat": 4,
 "nbformat_minor": 0
}
