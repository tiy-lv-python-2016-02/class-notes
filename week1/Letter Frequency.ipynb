{
 "cells": [
  {
   "cell_type": "code",
   "execution_count": 6,
   "metadata": {
    "collapsed": false
   },
   "outputs": [
    {
     "name": "stdout",
     "output_type": "stream",
     "text": [
      "{'m': 2, 'e': 2, 'd': 1, 'r': 1, 't': 1, 's': 4, 'u': 1, 'k': 2, 'c': 1, 'a': 4, 'b': 1, 'p': 1, 'n': 2, 'i': 1}\n"
     ]
    }
   ],
   "source": [
    "def letter_counter(message):\n",
    "    \n",
    "    message = message.lower().replace(\"'\", \"\").replace(\" \", \"\")\n",
    "    \n",
    "    freq = {}\n",
    "    for letter in message:\n",
    "        freq[letter] = freq.get(letter, 0) + 1\n",
    "        \n",
    "    return freq\n",
    "\n",
    "\n",
    "if __name__ == '__main__':\n",
    "    print(letter_counter(\"Batman kicked superman's ass\"))"
   ]
  },
  {
   "cell_type": "code",
   "execution_count": null,
   "metadata": {
    "collapsed": true
   },
   "outputs": [],
   "source": []
  }
 ],
 "metadata": {
  "kernelspec": {
   "display_name": "Python 3",
   "language": "python",
   "name": "python3"
  },
  "language_info": {
   "codemirror_mode": {
    "name": "ipython",
    "version": 3
   },
   "file_extension": ".py",
   "mimetype": "text/x-python",
   "name": "python",
   "nbconvert_exporter": "python",
   "pygments_lexer": "ipython3",
   "version": "3.5.1"
  }
 },
 "nbformat": 4,
 "nbformat_minor": 0
}
